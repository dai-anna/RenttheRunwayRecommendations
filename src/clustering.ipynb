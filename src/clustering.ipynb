{
 "cells": [
  {
   "cell_type": "code",
   "execution_count": 5,
   "metadata": {},
   "outputs": [],
   "source": [
    "import pandas as pd\n",
    "import numpy as np\n",
    "from matplotlib import pyplot as plt\n",
    "from scipy.cluster.hierarchy import dendrogram\n",
    "from sklearn.cluster import AgglomerativeClustering\n",
    "\n",
    "df_m = pd.read_parquet(\"../artifacts/reduceddata.parquet\", engine=\"pyarrow\")\n"
   ]
  },
  {
   "cell_type": "code",
   "execution_count": 6,
   "metadata": {},
   "outputs": [],
   "source": [
    "df_m = df_m.dropna()\n"
   ]
  },
  {
   "cell_type": "code",
   "execution_count": 7,
   "metadata": {},
   "outputs": [
    {
     "data": {
      "text/html": [
       "<div>\n",
       "<style scoped>\n",
       "    .dataframe tbody tr th:only-of-type {\n",
       "        vertical-align: middle;\n",
       "    }\n",
       "\n",
       "    .dataframe tbody tr th {\n",
       "        vertical-align: top;\n",
       "    }\n",
       "\n",
       "    .dataframe thead th {\n",
       "        text-align: right;\n",
       "    }\n",
       "</style>\n",
       "<table border=\"1\" class=\"dataframe\">\n",
       "  <thead>\n",
       "    <tr style=\"text-align: right;\">\n",
       "      <th></th>\n",
       "      <th>fit</th>\n",
       "      <th>user_id</th>\n",
       "      <th>item_id</th>\n",
       "      <th>weight_lbs</th>\n",
       "      <th>rating</th>\n",
       "      <th>rented_for</th>\n",
       "      <th>body_type</th>\n",
       "      <th>category</th>\n",
       "      <th>size</th>\n",
       "      <th>age</th>\n",
       "      <th>review_date</th>\n",
       "      <th>bust_size_num</th>\n",
       "      <th>bust_size_letter</th>\n",
       "      <th>height_in</th>\n",
       "      <th>review_month</th>\n",
       "      <th>review_day_of_month</th>\n",
       "      <th>review_year</th>\n",
       "      <th>recommend</th>\n",
       "    </tr>\n",
       "  </thead>\n",
       "  <tbody>\n",
       "    <tr>\n",
       "      <th>0</th>\n",
       "      <td>fit</td>\n",
       "      <td>420272</td>\n",
       "      <td>2260466</td>\n",
       "      <td>137.0</td>\n",
       "      <td>10.0</td>\n",
       "      <td>vacation</td>\n",
       "      <td>hourglass</td>\n",
       "      <td>romper</td>\n",
       "      <td>14</td>\n",
       "      <td>28.0</td>\n",
       "      <td>2016-04-20</td>\n",
       "      <td>34.0</td>\n",
       "      <td>d</td>\n",
       "      <td>68.0</td>\n",
       "      <td>4</td>\n",
       "      <td>20</td>\n",
       "      <td>2016</td>\n",
       "      <td>1</td>\n",
       "    </tr>\n",
       "    <tr>\n",
       "      <th>4</th>\n",
       "      <td>fit</td>\n",
       "      <td>151944</td>\n",
       "      <td>616682</td>\n",
       "      <td>145.0</td>\n",
       "      <td>10.0</td>\n",
       "      <td>wedding</td>\n",
       "      <td>athletic</td>\n",
       "      <td>gown</td>\n",
       "      <td>12</td>\n",
       "      <td>27.0</td>\n",
       "      <td>2016-09-26</td>\n",
       "      <td>34.0</td>\n",
       "      <td>b</td>\n",
       "      <td>69.0</td>\n",
       "      <td>9</td>\n",
       "      <td>26</td>\n",
       "      <td>2016</td>\n",
       "      <td>1</td>\n",
       "    </tr>\n",
       "    <tr>\n",
       "      <th>6</th>\n",
       "      <td>fit</td>\n",
       "      <td>336066</td>\n",
       "      <td>568429</td>\n",
       "      <td>112.0</td>\n",
       "      <td>10.0</td>\n",
       "      <td>everyday</td>\n",
       "      <td>hourglass</td>\n",
       "      <td>dress</td>\n",
       "      <td>4</td>\n",
       "      <td>27.0</td>\n",
       "      <td>2017-12-07</td>\n",
       "      <td>34.0</td>\n",
       "      <td>c</td>\n",
       "      <td>63.0</td>\n",
       "      <td>12</td>\n",
       "      <td>7</td>\n",
       "      <td>2017</td>\n",
       "      <td>1</td>\n",
       "    </tr>\n",
       "    <tr>\n",
       "      <th>9</th>\n",
       "      <td>fit</td>\n",
       "      <td>154309</td>\n",
       "      <td>1729232</td>\n",
       "      <td>114.0</td>\n",
       "      <td>10.0</td>\n",
       "      <td>formal affair</td>\n",
       "      <td>petite</td>\n",
       "      <td>gown</td>\n",
       "      <td>1</td>\n",
       "      <td>33.0</td>\n",
       "      <td>2016-10-17</td>\n",
       "      <td>32.0</td>\n",
       "      <td>b</td>\n",
       "      <td>63.0</td>\n",
       "      <td>10</td>\n",
       "      <td>17</td>\n",
       "      <td>2016</td>\n",
       "      <td>1</td>\n",
       "    </tr>\n",
       "    <tr>\n",
       "      <th>12</th>\n",
       "      <td>fit</td>\n",
       "      <td>87660</td>\n",
       "      <td>1295171</td>\n",
       "      <td>120.0</td>\n",
       "      <td>10.0</td>\n",
       "      <td>party</td>\n",
       "      <td>straight &amp; narrow</td>\n",
       "      <td>sheath</td>\n",
       "      <td>8</td>\n",
       "      <td>26.0</td>\n",
       "      <td>2016-07-28</td>\n",
       "      <td>36.0</td>\n",
       "      <td>a</td>\n",
       "      <td>66.0</td>\n",
       "      <td>7</td>\n",
       "      <td>28</td>\n",
       "      <td>2016</td>\n",
       "      <td>1</td>\n",
       "    </tr>\n",
       "  </tbody>\n",
       "</table>\n",
       "</div>"
      ],
      "text/plain": [
       "    fit  user_id  item_id  weight_lbs  rating     rented_for  \\\n",
       "0   fit   420272  2260466       137.0    10.0       vacation   \n",
       "4   fit   151944   616682       145.0    10.0        wedding   \n",
       "6   fit   336066   568429       112.0    10.0       everyday   \n",
       "9   fit   154309  1729232       114.0    10.0  formal affair   \n",
       "12  fit    87660  1295171       120.0    10.0          party   \n",
       "\n",
       "            body_type category  size   age review_date  bust_size_num  \\\n",
       "0           hourglass   romper    14  28.0  2016-04-20           34.0   \n",
       "4            athletic     gown    12  27.0  2016-09-26           34.0   \n",
       "6           hourglass    dress     4  27.0  2017-12-07           34.0   \n",
       "9              petite     gown     1  33.0  2016-10-17           32.0   \n",
       "12  straight & narrow   sheath     8  26.0  2016-07-28           36.0   \n",
       "\n",
       "   bust_size_letter  height_in  review_month  review_day_of_month  \\\n",
       "0                 d       68.0             4                   20   \n",
       "4                 b       69.0             9                   26   \n",
       "6                 c       63.0            12                    7   \n",
       "9                 b       63.0            10                   17   \n",
       "12                a       66.0             7                   28   \n",
       "\n",
       "    review_year  recommend  \n",
       "0          2016          1  \n",
       "4          2016          1  \n",
       "6          2017          1  \n",
       "9          2016          1  \n",
       "12         2016          1  "
      ]
     },
     "execution_count": 7,
     "metadata": {},
     "output_type": "execute_result"
    }
   ],
   "source": [
    "df_m.head()\n"
   ]
  },
  {
   "cell_type": "code",
   "execution_count": 8,
   "metadata": {},
   "outputs": [
    {
     "data": {
      "text/plain": [
       "['a', 'aa', 'b', 'c', 'd', 'e', 'f', 'g', 'h', 'i', 'j']"
      ]
     },
     "execution_count": 8,
     "metadata": {},
     "output_type": "execute_result"
    }
   ],
   "source": [
    "sorted(list(df_m[\"bust_size_letter\"].unique()))\n"
   ]
  },
  {
   "cell_type": "code",
   "execution_count": 9,
   "metadata": {},
   "outputs": [],
   "source": [
    "df_m[\"bust_size_letter\"] = pd.Categorical(df_m[\"bust_size_letter\"]).codes\n"
   ]
  },
  {
   "cell_type": "code",
   "execution_count": 9,
   "metadata": {},
   "outputs": [],
   "source": [
    "numeric_features = [\n",
    "    \"user_id\",\n",
    "    \"weight_lbs\",\n",
    "    \"age\",\n",
    "    \"size\",\n",
    "    \"bust_size_letter\",\n",
    "    \"height_in\",\n",
    "]\n",
    "df_clu = df_m[numeric_features]\n",
    "# imp_median = IterativeImputer(random_state=1234)\n",
    "# imp_median.fit(df_clu)\n",
    "# df_clu= pd.DataFrame(imp_median.transform(df_clu),columns=df_clu.columns)\n",
    "# df_clu.bust_size_letter = df_clu.bust_size_letter.astype('int')\n"
   ]
  },
  {
   "cell_type": "code",
   "execution_count": 10,
   "metadata": {},
   "outputs": [],
   "source": [
    "users = (\n",
    "    df_clu[[\"user_id\", \"age\", \"size\", \"bust_size_letter\", \"height_in\", \"weight_lbs\"]]\n",
    "    .groupby(\"user_id\")\n",
    "    .median()\n",
    "    .reset_index()\n",
    ")\n"
   ]
  },
  {
   "cell_type": "code",
   "execution_count": 11,
   "metadata": {},
   "outputs": [],
   "source": [
    "users_freq = df_m.groupby([\"user_id\"]).agg({\"item_id\": \"count\"}).reset_index()\n",
    "user_1 = list(users_freq[users_freq[\"item_id\"] > 1][\"user_id\"])\n",
    "df_m_3 = df_m[df_m[\"user_id\"].isin(user_1)]\n",
    "df_users = users[users[\"user_id\"].isin(user_1)].reset_index(drop=True)\n",
    "df_users_no_id = df_users.iloc[:, 1:]\n"
   ]
  },
  {
   "cell_type": "markdown",
   "metadata": {},
   "source": [
    "### Dendrogram"
   ]
  },
  {
   "cell_type": "code",
   "execution_count": 14,
   "metadata": {},
   "outputs": [
    {
     "data": {
      "image/png": "[encoded data removed]",
      "text/plain": [
       "<Figure size 432x288 with 1 Axes>"
      ]
     },
     "metadata": {
      "needs_background": "light"
     },
     "output_type": "display_data"
    }
   ],
   "source": [
    "def plot_dendrogram(model, **kwargs):\n",
    "    # Create linkage matrix and then plot the dendrogram\n",
    "\n",
    "    # create the counts of samples under each node\n",
    "    counts = np.zeros(model.children_.shape[0])\n",
    "    n_samples = len(model.labels_)\n",
    "    for i, merge in enumerate(model.children_):\n",
    "        current_count = 0\n",
    "        for child_idx in merge:\n",
    "            if child_idx < n_samples:\n",
    "                current_count += 1  # leaf node\n",
    "            else:\n",
    "                current_count += counts[child_idx - n_samples]\n",
    "        counts[i] = current_count\n",
    "\n",
    "    linkage_matrix = np.column_stack(\n",
    "        [model.children_, model.distances_, counts]\n",
    "    ).astype(float)\n",
    "\n",
    "    # Plot the corresponding dendrogram\n",
    "    dendrogram(linkage_matrix, **kwargs)\n",
    "\n",
    "\n",
    "# setting distance_threshold=0 ensures we compute the full tree.\n",
    "model = AgglomerativeClustering(distance_threshold=0, n_clusters=None)\n",
    "\n",
    "model = model.fit(df_users_no_id)\n",
    "plt.title(\"Hierarchical Clustering Dendrogram\")\n",
    "# plot the top three levels of the dendrogram\n",
    "plot_dendrogram(model, truncate_mode=\"level\", p=3)\n",
    "plt.xlabel(\"Number of points in node (or index of point if no parenthesis).\")\n",
    "plt.show()\n"
   ]
  },
  {
   "cell_type": "markdown",
   "metadata": {},
   "source": [
    "### K_Mean"
   ]
  },
  {
   "cell_type": "code",
   "execution_count": 15,
   "metadata": {},
   "outputs": [],
   "source": [
    "from sklearn.cluster import KMeans\n",
    "\n",
    "\n",
    "def ClusterIndicesNumpy(clustNum, labels_array):  # numpy\n",
    "    return np.where(labels_array == clustNum)[0]\n",
    "\n",
    "\n",
    "kmeans_n = KMeans(n_clusters=4, random_state=1234).fit(df_users_no_id)\n",
    "kmeans_n.labels_\n",
    "kmeans_n.cluster_centers_\n",
    "index_1 = ClusterIndicesNumpy(1, kmeans_n.labels_)\n",
    "index_2 = ClusterIndicesNumpy(2, kmeans_n.labels_)\n",
    "index_3 = ClusterIndicesNumpy(3, kmeans_n.labels_)\n",
    "index_0 = ClusterIndicesNumpy(0, kmeans_n.labels_)\n",
    "clusters = [index_0, index_1, index_2, index_3]\n",
    "mean_age = []\n",
    "mean_size = []\n",
    "mean_bust_size = []\n",
    "mean_heigt = []\n",
    "mean_weight = []\n",
    "means = [mean_age, mean_size, mean_bust_size, mean_heigt, mean_weight]\n",
    "values = [\"age\", \"size\", \"bust_size_letter\", \"height_in\", \"weight_lbs\"]\n",
    "for i in range(5):\n",
    "    for j in range(4):\n",
    "        means[i].append(df_users_no_id.loc[clusters[j]].describe()[values[i]][1])\n"
   ]
  },
  {
   "cell_type": "markdown",
   "metadata": {},
   "source": [
    "### Dataset per Clauster"
   ]
  },
  {
   "cell_type": "code",
   "execution_count": 21,
   "metadata": {},
   "outputs": [],
   "source": [
    "df_C0 = df_m.iloc[index_0]\n",
    "df_C1 = df_m.iloc[index_1]\n",
    "df_C2 = df_m.iloc[index_2]\n",
    "df_C3 = df_m.iloc[index_3]\n"
   ]
  },
  {
   "cell_type": "code",
   "execution_count": 11,
   "metadata": {},
   "outputs": [
    {
     "ename": "NameError",
     "evalue": "name 'df_C0' is not defined",
     "output_type": "error",
     "traceback": [
      "\u001b[0;31m---------------------------------------------------------------------------\u001b[0m",
      "\u001b[0;31mNameError\u001b[0m                                 Traceback (most recent call last)",
      "\u001b[0;32m/var/folders/7y/c5pg88dn299dxzx9v5hs68qw0000gn/T/ipykernel_34705/2299980845.py\u001b[0m in \u001b[0;36m<module>\u001b[0;34m\u001b[0m\n\u001b[0;32m----> 1\u001b[0;31m \u001b[0mdf_C0\u001b[0m\u001b[0;34m.\u001b[0m\u001b[0mto_csv\u001b[0m\u001b[0;34m(\u001b[0m\u001b[0;34m\"../artifacts/Cluster_0.csv\"\u001b[0m\u001b[0;34m,\u001b[0m \u001b[0mindex\u001b[0m\u001b[0;34m=\u001b[0m\u001b[0;32mFalse\u001b[0m\u001b[0;34m)\u001b[0m\u001b[0;34m\u001b[0m\u001b[0;34m\u001b[0m\u001b[0m\n\u001b[0m\u001b[1;32m      2\u001b[0m \u001b[0mdf_C1\u001b[0m\u001b[0;34m.\u001b[0m\u001b[0mto_csv\u001b[0m\u001b[0;34m(\u001b[0m\u001b[0;34m\"../artifacts/Cluster_1.csv\"\u001b[0m\u001b[0;34m,\u001b[0m \u001b[0mindex\u001b[0m\u001b[0;34m=\u001b[0m\u001b[0;32mFalse\u001b[0m\u001b[0;34m)\u001b[0m\u001b[0;34m\u001b[0m\u001b[0;34m\u001b[0m\u001b[0m\n\u001b[1;32m      3\u001b[0m \u001b[0mdf_C2\u001b[0m\u001b[0;34m.\u001b[0m\u001b[0mto_csv\u001b[0m\u001b[0;34m(\u001b[0m\u001b[0;34m\"../artifacts/Cluster_2.csv\"\u001b[0m\u001b[0;34m,\u001b[0m \u001b[0mindex\u001b[0m\u001b[0;34m=\u001b[0m\u001b[0;32mFalse\u001b[0m\u001b[0;34m)\u001b[0m\u001b[0;34m\u001b[0m\u001b[0;34m\u001b[0m\u001b[0m\n\u001b[1;32m      4\u001b[0m \u001b[0mdf_C3\u001b[0m\u001b[0;34m.\u001b[0m\u001b[0mto_csv\u001b[0m\u001b[0;34m(\u001b[0m\u001b[0;34m\"../artifacts/Cluster_3.csv\"\u001b[0m\u001b[0;34m,\u001b[0m \u001b[0mindex\u001b[0m\u001b[0;34m=\u001b[0m\u001b[0;32mFalse\u001b[0m\u001b[0;34m)\u001b[0m\u001b[0;34m\u001b[0m\u001b[0;34m\u001b[0m\u001b[0m\n",
      "\u001b[0;31mNameError\u001b[0m: name 'df_C0' is not defined"
     ]
    }
   ],
   "source": [
    "df_C0.to_csv(\"../artifacts/Cluster_0.csv\", index=False)\n",
    "df_C1.to_csv(\"../artifacts/Cluster_1.csv\", index=False)\n",
    "df_C2.to_csv(\"../artifacts/Cluster_2.csv\", index=False)\n",
    "df_C3.to_csv(\"../artifacts/Cluster_3.csv\", index=False)\n"
   ]
  },
  {
   "cell_type": "code",
   "execution_count": 16,
   "metadata": {},
   "outputs": [
    {
     "data": {
      "image/png": "[encoded data removed]",
      "text/plain": [
       "<Figure size 864x576 with 1 Axes>"
      ]
     },
     "metadata": {
      "needs_background": "light"
     },
     "output_type": "display_data"
    },
    {
     "data": {
      "image/png": "[encoded data removed]",
      "text/plain": [
       "<Figure size 864x576 with 1 Axes>"
      ]
     },
     "metadata": {
      "needs_background": "light"
     },
     "output_type": "display_data"
    },
    {
     "data": {
      "image/png": "[encoded data removed]",
      "text/plain": [
       "<Figure size 864x576 with 1 Axes>"
      ]
     },
     "metadata": {
      "needs_background": "light"
     },
     "output_type": "display_data"
    },
    {
     "data": {
      "image/png": "[encoded data removed]",
      "text/plain": [
       "<Figure size 864x576 with 1 Axes>"
      ]
     },
     "metadata": {
      "needs_background": "light"
     },
     "output_type": "display_data"
    },
    {
     "data": {
      "image/png": "[encoded data removed]",
      "text/plain": [
       "<Figure size 864x576 with 1 Axes>"
      ]
     },
     "metadata": {
      "needs_background": "light"
     },
     "output_type": "display_data"
    }
   ],
   "source": [
    "x_labels = np.arange(len(means[0]))\n",
    "\n",
    "for i in range(len(means)):\n",
    "    # plt.bar(np.arange(len(means[i])), means[i])\n",
    "    # plt.set_label(values[i])\n",
    "    # plt.legend\n",
    "\n",
    "    plt.figure(figsize=(12, 8))\n",
    "    freq_series = pd.Series(means[i])\n",
    "    ax = freq_series.plot(kind=\"bar\")\n",
    "    ax.set_title(values[i])\n",
    "    ax.set_xlabel(\"Cluster\")\n",
    "    ax.set_ylabel(\"Frequency\")\n",
    "    ax.set_xticklabels(x_labels)\n",
    "plt.show()\n"
   ]
  }
 ],
 "metadata": {
  "interpreter": {
   "hash": "9efce205f64ad363cd9f14615485aca38ee4ef0915866e318aa83c8d0c93f6fc"
  },
  "kernelspec": {
   "display_name": "Python 3.10.2 64-bit",
   "language": "python",
   "name": "python3"
  },
  "language_info": {
   "codemirror_mode": {
    "name": "ipython",
    "version": 3
   },
   "file_extension": ".py",
   "mimetype": "text/x-python",
   "name": "python",
   "nbconvert_exporter": "python",
   "pygments_lexer": "ipython3",
   "version": "3.9.7"
  },
  "orig_nbformat": 4
 },
 "nbformat": 4,
 "nbformat_minor": 2
}
