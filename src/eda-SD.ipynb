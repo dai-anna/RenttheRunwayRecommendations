{
 "cells": [
  {
   "cell_type": "code",
   "execution_count": 19,
   "metadata": {},
   "outputs": [],
   "source": [
    "## ML EDA\n",
    "import pandas as pd\n",
    "import numpy as np\n",
    "import matplotlib as mpl\n",
    "import matplotlib.pyplot as plt\n",
    "import seaborn as sns"
   ]
  },
  {
   "cell_type": "code",
   "execution_count": 2,
   "metadata": {},
   "outputs": [
    {
     "data": {
      "text/html": [
       "<div>\n",
       "<style scoped>\n",
       "    .dataframe tbody tr th:only-of-type {\n",
       "        vertical-align: middle;\n",
       "    }\n",
       "\n",
       "    .dataframe tbody tr th {\n",
       "        vertical-align: top;\n",
       "    }\n",
       "\n",
       "    .dataframe thead th {\n",
       "        text-align: right;\n",
       "    }\n",
       "</style>\n",
       "<table border=\"1\" class=\"dataframe\">\n",
       "  <thead>\n",
       "    <tr style=\"text-align: right;\">\n",
       "      <th></th>\n",
       "      <th>fit</th>\n",
       "      <th>user_id</th>\n",
       "      <th>item_id</th>\n",
       "      <th>weight_lbs</th>\n",
       "      <th>rating</th>\n",
       "      <th>rented_for</th>\n",
       "      <th>body_type</th>\n",
       "      <th>category</th>\n",
       "      <th>size</th>\n",
       "      <th>age</th>\n",
       "      <th>review_date</th>\n",
       "      <th>bust_size_num</th>\n",
       "      <th>bust_size_letter</th>\n",
       "      <th>height_in</th>\n",
       "      <th>review_month</th>\n",
       "      <th>review_day_of_month</th>\n",
       "      <th>review_year</th>\n",
       "      <th>recommend</th>\n",
       "    </tr>\n",
       "  </thead>\n",
       "  <tbody>\n",
       "    <tr>\n",
       "      <th>0</th>\n",
       "      <td>fit</td>\n",
       "      <td>420272</td>\n",
       "      <td>2260466</td>\n",
       "      <td>137.0</td>\n",
       "      <td>10.0</td>\n",
       "      <td>vacation</td>\n",
       "      <td>hourglass</td>\n",
       "      <td>romper</td>\n",
       "      <td>14</td>\n",
       "      <td>28.0</td>\n",
       "      <td>2016-04-20</td>\n",
       "      <td>34.0</td>\n",
       "      <td>d</td>\n",
       "      <td>68.0</td>\n",
       "      <td>4</td>\n",
       "      <td>20</td>\n",
       "      <td>2016</td>\n",
       "      <td>1</td>\n",
       "    </tr>\n",
       "    <tr>\n",
       "      <th>1</th>\n",
       "      <td>fit</td>\n",
       "      <td>273551</td>\n",
       "      <td>153475</td>\n",
       "      <td>132.0</td>\n",
       "      <td>10.0</td>\n",
       "      <td>other</td>\n",
       "      <td>straight &amp; narrow</td>\n",
       "      <td>gown</td>\n",
       "      <td>12</td>\n",
       "      <td>36.0</td>\n",
       "      <td>2013-06-18</td>\n",
       "      <td>34.0</td>\n",
       "      <td>b</td>\n",
       "      <td>66.0</td>\n",
       "      <td>6</td>\n",
       "      <td>18</td>\n",
       "      <td>2013</td>\n",
       "      <td>1</td>\n",
       "    </tr>\n",
       "    <tr>\n",
       "      <th>2</th>\n",
       "      <td>fit</td>\n",
       "      <td>360448</td>\n",
       "      <td>1063761</td>\n",
       "      <td>NaN</td>\n",
       "      <td>10.0</td>\n",
       "      <td>party</td>\n",
       "      <td>NaN</td>\n",
       "      <td>sheath</td>\n",
       "      <td>4</td>\n",
       "      <td>116.0</td>\n",
       "      <td>2015-12-14</td>\n",
       "      <td>NaN</td>\n",
       "      <td>NaN</td>\n",
       "      <td>64.0</td>\n",
       "      <td>12</td>\n",
       "      <td>14</td>\n",
       "      <td>2015</td>\n",
       "      <td>1</td>\n",
       "    </tr>\n",
       "    <tr>\n",
       "      <th>3</th>\n",
       "      <td>fit</td>\n",
       "      <td>909926</td>\n",
       "      <td>126335</td>\n",
       "      <td>135.0</td>\n",
       "      <td>8.0</td>\n",
       "      <td>formal affair</td>\n",
       "      <td>pear</td>\n",
       "      <td>dress</td>\n",
       "      <td>8</td>\n",
       "      <td>34.0</td>\n",
       "      <td>2014-02-12</td>\n",
       "      <td>34.0</td>\n",
       "      <td>c</td>\n",
       "      <td>65.0</td>\n",
       "      <td>2</td>\n",
       "      <td>12</td>\n",
       "      <td>2014</td>\n",
       "      <td>0</td>\n",
       "    </tr>\n",
       "    <tr>\n",
       "      <th>4</th>\n",
       "      <td>fit</td>\n",
       "      <td>151944</td>\n",
       "      <td>616682</td>\n",
       "      <td>145.0</td>\n",
       "      <td>10.0</td>\n",
       "      <td>wedding</td>\n",
       "      <td>athletic</td>\n",
       "      <td>gown</td>\n",
       "      <td>12</td>\n",
       "      <td>27.0</td>\n",
       "      <td>2016-09-26</td>\n",
       "      <td>34.0</td>\n",
       "      <td>b</td>\n",
       "      <td>69.0</td>\n",
       "      <td>9</td>\n",
       "      <td>26</td>\n",
       "      <td>2016</td>\n",
       "      <td>1</td>\n",
       "    </tr>\n",
       "  </tbody>\n",
       "</table>\n",
       "</div>"
      ],
      "text/plain": [
       "   fit  user_id  item_id  weight_lbs  rating     rented_for  \\\n",
       "0  fit   420272  2260466       137.0    10.0       vacation   \n",
       "1  fit   273551   153475       132.0    10.0          other   \n",
       "2  fit   360448  1063761         NaN    10.0          party   \n",
       "3  fit   909926   126335       135.0     8.0  formal affair   \n",
       "4  fit   151944   616682       145.0    10.0        wedding   \n",
       "\n",
       "           body_type category  size    age review_date  bust_size_num  \\\n",
       "0          hourglass   romper    14   28.0  2016-04-20           34.0   \n",
       "1  straight & narrow     gown    12   36.0  2013-06-18           34.0   \n",
       "2                NaN   sheath     4  116.0  2015-12-14            NaN   \n",
       "3               pear    dress     8   34.0  2014-02-12           34.0   \n",
       "4           athletic     gown    12   27.0  2016-09-26           34.0   \n",
       "\n",
       "  bust_size_letter  height_in  review_month  review_day_of_month  review_year  \\\n",
       "0                d       68.0             4                   20         2016   \n",
       "1                b       66.0             6                   18         2013   \n",
       "2              NaN       64.0            12                   14         2015   \n",
       "3                c       65.0             2                   12         2014   \n",
       "4                b       69.0             9                   26         2016   \n",
       "\n",
       "   recommend  \n",
       "0          1  \n",
       "1          1  \n",
       "2          1  \n",
       "3          0  \n",
       "4          1  "
      ]
     },
     "execution_count": 2,
     "metadata": {},
     "output_type": "execute_result"
    }
   ],
   "source": [
    "df= pd.read_parquet(\"../artifacts/cleandata.parquet\")\n",
    "df.head()"
   ]
  },
  {
   "cell_type": "code",
   "execution_count": 49,
   "metadata": {},
   "outputs": [
    {
     "name": "stdout",
     "output_type": "stream",
     "text": [
      "Total number of users are 105571. Things were rented multiple times by 33747 (unique) users. The max number of rentals by a single user was 436 and on average users rented 3.58 items.\n"
     ]
    }
   ],
   "source": [
    "# how many times did users rate multiple times?\n",
    "count_purchases = df[\"user_id\"].value_counts().sort_values(ascending=True)\n",
    "print(\n",
    "    f\"Total number of users are {df.user_id.nunique()}. Things were rented multiple times by {count_purchases[count_purchases > 1].shape[0]} (unique) users. The max number of rentals by a single user was {count_purchases[count_purchases > 1].max()} and on average users rented {count_purchases[count_purchases > 1].mean():.2f} items.\"\n",
    ")\n"
   ]
  },
  {
   "cell_type": "code",
   "execution_count": 21,
   "metadata": {},
   "outputs": [
    {
     "data": {
      "text/plain": [
       "30.430000000007567"
      ]
     },
     "execution_count": 21,
     "metadata": {},
     "output_type": "execute_result"
    }
   ],
   "source": [
    "# find 99.9% percentile of # ratings per user\n",
    "df[\"user_id\"].value_counts().sort_values(ascending=True).quantile(\n",
    "    0.999\n",
    ") ##consider anything above this outlier?"
   ]
  },
  {
   "cell_type": "code",
   "execution_count": 27,
   "metadata": {},
   "outputs": [
    {
     "name": "stdout",
     "output_type": "stream",
     "text": [
      "There are 5850 unique items out of which 5509 have been rated more than once. \n"
     ]
    }
   ],
   "source": [
    "# check how many times each item was rated more than once\n",
    "count_ratings= df[\"item_id\"].value_counts().sort_values(ascending=True)\n",
    "print(f\"There are {df['item_id'].nunique()} unique items out of which {count_ratings[count_ratings > 1].shape[0]} have been rated more than once. \")"
   ]
  },
  {
   "cell_type": "code",
   "execution_count": 41,
   "metadata": {},
   "outputs": [
    {
     "data": {
      "text/html": [
       "<div>\n",
       "<style scoped>\n",
       "    .dataframe tbody tr th:only-of-type {\n",
       "        vertical-align: middle;\n",
       "    }\n",
       "\n",
       "    .dataframe tbody tr th {\n",
       "        vertical-align: top;\n",
       "    }\n",
       "\n",
       "    .dataframe thead th {\n",
       "        text-align: right;\n",
       "    }\n",
       "</style>\n",
       "<table border=\"1\" class=\"dataframe\">\n",
       "  <thead>\n",
       "    <tr style=\"text-align: right;\">\n",
       "      <th></th>\n",
       "      <th>item_id</th>\n",
       "      <th>fit</th>\n",
       "      <th>rented_for</th>\n",
       "      <th>category</th>\n",
       "    </tr>\n",
       "  </thead>\n",
       "  <tbody>\n",
       "    <tr>\n",
       "      <th>1</th>\n",
       "      <td>153475</td>\n",
       "      <td>fit</td>\n",
       "      <td>other</td>\n",
       "      <td>gown</td>\n",
       "    </tr>\n",
       "    <tr>\n",
       "      <th>2</th>\n",
       "      <td>1063761</td>\n",
       "      <td>fit</td>\n",
       "      <td>party</td>\n",
       "      <td>sheath</td>\n",
       "    </tr>\n",
       "    <tr>\n",
       "      <th>3</th>\n",
       "      <td>126335</td>\n",
       "      <td>fit</td>\n",
       "      <td>formal affair</td>\n",
       "      <td>dress</td>\n",
       "    </tr>\n",
       "    <tr>\n",
       "      <th>4</th>\n",
       "      <td>616682</td>\n",
       "      <td>fit</td>\n",
       "      <td>wedding</td>\n",
       "      <td>gown</td>\n",
       "    </tr>\n",
       "    <tr>\n",
       "      <th>7</th>\n",
       "      <td>130259</td>\n",
       "      <td>fit</td>\n",
       "      <td>formal affair</td>\n",
       "      <td>dress</td>\n",
       "    </tr>\n",
       "  </tbody>\n",
       "</table>\n",
       "</div>"
      ],
      "text/plain": [
       "   item_id  fit     rented_for category\n",
       "1   153475  fit          other     gown\n",
       "2  1063761  fit          party   sheath\n",
       "3   126335  fit  formal affair    dress\n",
       "4   616682  fit        wedding     gown\n",
       "7   130259  fit  formal affair    dress"
      ]
     },
     "execution_count": 41,
     "metadata": {},
     "output_type": "execute_result"
    }
   ],
   "source": [
    "#whats common with the most popular rated items?\n",
    "most_popular_rated= count_ratings[count_ratings > 1].sort_values(ascending=False)[:1000]\n",
    "most_popular_items=most_popular_rated.index\n",
    "most_popular_df= df.copy()\n",
    "most_popular_df['KEEP']= most_popular_df.item_id.isin(most_popular_items)\n",
    "most_popular_df=most_popular_df[most_popular_df.KEEP==True]\n",
    "cols= ['item_id','fit','rented_for','category']\n",
    "most_popular_df_items=most_popular_df.loc[:,cols] #keeping only things that describe the item\n",
    "most_popular_df_items.head()"
   ]
  },
  {
   "cell_type": "code",
   "execution_count": 45,
   "metadata": {},
   "outputs": [
    {
     "data": {
      "text/plain": [
       "fit      0.751528\n",
       "small    0.135418\n",
       "large    0.113054\n",
       "Name: fit, dtype: float64"
      ]
     },
     "execution_count": 45,
     "metadata": {},
     "output_type": "execute_result"
    }
   ],
   "source": [
    "most_popular_df_items.fit.value_counts(normalize=True) #not right"
   ]
  },
  {
   "cell_type": "code",
   "execution_count": 46,
   "metadata": {},
   "outputs": [
    {
     "data": {
      "text/plain": [
       "wedding          0.359902\n",
       "formal affair    0.261486\n",
       "party            0.191412\n",
       "other            0.081313\n",
       "work             0.037243\n",
       "date             0.031163\n",
       "everyday         0.022699\n",
       "vacation         0.014783\n",
       "Name: rented_for, dtype: float64"
      ]
     },
     "execution_count": 46,
     "metadata": {},
     "output_type": "execute_result"
    }
   ],
   "source": [
    "most_popular_df_items.rented_for.value_counts(normalize=True)"
   ]
  },
  {
   "cell_type": "code",
   "execution_count": 47,
   "metadata": {},
   "outputs": [
    {
     "data": {
      "text/plain": [
       "dress         0.480604\n",
       "gown          0.295800\n",
       "sheath        0.114413\n",
       "shift         0.029263\n",
       "jumpsuit      0.022627\n",
       "maxi          0.016277\n",
       "mini          0.013511\n",
       "romper        0.012605\n",
       "jacket        0.002360\n",
       "shirtdress    0.002209\n",
       "skirt         0.001939\n",
       "frock         0.001629\n",
       "blazer        0.001550\n",
       "top           0.001272\n",
       "suit          0.000978\n",
       "print         0.000819\n",
       "legging       0.000517\n",
       "blouse        0.000461\n",
       "leggings      0.000405\n",
       "coat          0.000389\n",
       "down          0.000374\n",
       "Name: category, dtype: float64"
      ]
     },
     "execution_count": 47,
     "metadata": {},
     "output_type": "execute_result"
    }
   ],
   "source": [
    "most_popular_df_items.category.value_counts(normalize=True)"
   ]
  },
  {
   "cell_type": "code",
   "execution_count": 48,
   "metadata": {},
   "outputs": [
    {
     "data": {
      "text/plain": [
       "fit                        0\n",
       "user_id                    0\n",
       "item_id                    0\n",
       "weight_lbs             29982\n",
       "rating                    82\n",
       "rented_for                10\n",
       "body_type              14637\n",
       "category                   0\n",
       "size                       0\n",
       "age                      960\n",
       "review_date                0\n",
       "bust_size_num          18411\n",
       "bust_size_letter       18411\n",
       "height_in                677\n",
       "review_month               0\n",
       "review_day_of_month        0\n",
       "review_year                0\n",
       "recommend                  0\n",
       "dtype: int64"
      ]
     },
     "execution_count": 48,
     "metadata": {},
     "output_type": "execute_result"
    }
   ],
   "source": [
    "#missing values\n",
    "df.isna().sum()"
   ]
  },
  {
   "cell_type": "code",
   "execution_count": 51,
   "metadata": {},
   "outputs": [
    {
     "data": {
      "text/plain": [
       "1    0.646798\n",
       "0    0.353202\n",
       "Name: recommend, dtype: float64"
      ]
     },
     "execution_count": 51,
     "metadata": {},
     "output_type": "execute_result"
    }
   ],
   "source": [
    "#reccomend - not reccomend split\n",
    "df.recommend.value_counts(normalize=True)\n",
    "\n",
    "## reccomendations should be conditional on events, category, so on..."
   ]
  }
 ],
 "metadata": {
  "interpreter": {
   "hash": "7a6d299408f2023e0a200d93f96af30feb246c6cc222adc42d2612aa5ba88688"
  },
  "kernelspec": {
   "display_name": "Python 3.9.0 64-bit ('venv1': conda)",
   "name": "python3"
  },
  "language_info": {
   "codemirror_mode": {
    "name": "ipython",
    "version": 3
   },
   "file_extension": ".py",
   "mimetype": "text/x-python",
   "name": "python",
   "nbconvert_exporter": "python",
   "pygments_lexer": "ipython3",
   "version": "3.9.0"
  },
  "orig_nbformat": 4
 },
 "nbformat": 4,
 "nbformat_minor": 2
}
